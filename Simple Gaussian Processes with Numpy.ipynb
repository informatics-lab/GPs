{
 "cells": [
  {
   "cell_type": "markdown",
   "metadata": {},
   "source": [
    "# Simple Gaussian Processes with Numpy\n",
    "\n",
    "Based on https://blog.dominodatalab.com/fitting-gaussian-process-models-python/"
   ]
  },
  {
   "cell_type": "code",
   "execution_count": null,
   "metadata": {
    "collapsed": false
   },
   "outputs": [],
   "source": [
    "import numpy as np\n",
    "import matplotlib.pylab as plt\n",
    "import matplotlib\n",
    "import seaborn as sns\n",
    "from IPython.display import display\n",
    "import ipywidgets as widgets\n",
    "%matplotlib inline"
   ]
  },
  {
   "cell_type": "code",
   "execution_count": 9,
   "metadata": {
    "collapsed": false
   },
   "outputs": [
    {
     "data": {
      "text/html": [
       "\n",
       "<script src=\"https://code.jquery.com/ui/1.10.4/jquery-ui.min.js\" type=\"text/javascript\"></script>\n",
       "<script type=\"text/javascript\">function HoloViewsWidget(){\n",
       "}\n",
       "\n",
       "HoloViewsWidget.prototype.init_slider = function(init_val){\n",
       "\tif(this.load_json) {\n",
       "\t\tthis.from_json()\n",
       "\t} else {\n",
       "\t\tthis.update_cache();\n",
       "\t}\n",
       "}\n",
       "\n",
       "HoloViewsWidget.prototype.populate_cache = function(idx){\n",
       "    this.cache[idx].html(this.frames[idx]);\n",
       "    if (this.embed) {\n",
       "        delete this.frames[idx];\n",
       "    }\n",
       "}\n",
       "\n",
       "HoloViewsWidget.prototype.process_error = function(msg){\n",
       "\n",
       "}\n",
       "\n",
       "HoloViewsWidget.prototype.from_json = function() {\n",
       "\tvar data_url = this.json_path + this.id + '.json';\n",
       "\t$.getJSON(data_url, $.proxy(function(json_data) {\n",
       "\t\tthis.frames = json_data;\n",
       "\t\tthis.update_cache();\n",
       "\t\tthis.update(0);\n",
       "\t}, this));\n",
       "}\n",
       "\n",
       "HoloViewsWidget.prototype.dynamic_update = function(current){\n",
       "    function callback(msg){\n",
       "        /* This callback receives data from Python as a string\n",
       "         in order to parse it correctly quotes are sliced off*/\n",
       "        var data = msg.content.data['text/plain'].slice(1, -1);\n",
       "        this.frames[current] = data;\n",
       "        this.update_cache();\n",
       "        this.update(current);\n",
       "    }\n",
       "    if(!(current in this.cache)) {\n",
       "        var kernel = IPython.notebook.kernel;\n",
       "        callbacks = {iopub: {output: $.proxy(callback, this)}};\n",
       "        var cmd = \"holoviews.plotting.widgets.NdWidget.widgets['\" + this.id + \"'].update(\" + current + \")\";\n",
       "        kernel.execute(\"import holoviews;\" + cmd, callbacks, {silent : false});\n",
       "    } else {\n",
       "        this.update(current);\n",
       "    }\n",
       "}\n",
       "\n",
       "HoloViewsWidget.prototype.update_cache = function(){\n",
       "    var frame_len = Object.keys(this.frames).length;\n",
       "    for (var i=0; i<frame_len; i++) {\n",
       "        if(!this.load_json || this.dynamic)  {\n",
       "            frame = Object.keys(this.frames)[i];\n",
       "        } else {\n",
       "            frame = i;\n",
       "        }\n",
       "        if(!(frame in this.cache)) {\n",
       "            this.cache[frame] = $('<div />').appendTo(\"#\" + this.img_id).hide();\n",
       "            var cache_id = this.img_id+\"_\"+frame;\n",
       "            this.cache[frame].attr(\"id\", cache_id);\n",
       "            this.populate_cache(frame);\n",
       "        }\n",
       "    }\n",
       "}\n",
       "\n",
       "HoloViewsWidget.prototype.update = function(current){\n",
       "    if(current in this.cache) {\n",
       "        $.each(this.cache, function(index, value) {\n",
       "            value.hide();\n",
       "        });\n",
       "        this.cache[current].show();\n",
       "\t\tthis.wait = false;\n",
       "    }\n",
       "}\n",
       "\n",
       "\n",
       "function SelectionWidget(frames, id, slider_ids, keyMap, dim_vals, notFound, load_json, mode, cached, json_path, dynamic){\n",
       "    this.frames = frames;\n",
       "    this.fig_id = \"fig_\" + id;\n",
       "    this.img_id = \"_anim_img\" + id;\n",
       "    this.id = id;\n",
       "    this.slider_ids = slider_ids;\n",
       "    this.keyMap = keyMap\n",
       "    this.current_frame = 0;\n",
       "    this.current_vals = dim_vals;\n",
       "    this.load_json = load_json;\n",
       "    this.mode = mode;\n",
       "    this.notFound = notFound;\n",
       "    this.cached = cached;\n",
       "    this.dynamic = dynamic;\n",
       "    this.cache = {};\n",
       "\tthis.json_path = json_path;\n",
       "    this.init_slider(this.current_vals[0]);\n",
       "\tthis.queue = [];\n",
       "\tthis.wait = false;\n",
       "}\n",
       "\n",
       "SelectionWidget.prototype = new HoloViewsWidget;\n",
       "\n",
       "\n",
       "SelectionWidget.prototype.get_key = function(current_vals) {\n",
       "\tvar key = \"(\";\n",
       "    for (var i=0; i<this.slider_ids.length; i++)\n",
       "    {\n",
       "        val = this.current_vals[i];\n",
       "        if (!(typeof val === 'string')) {\n",
       "            if (val % 1 === 0) { var fixed = 1;}\n",
       "            else { var fixed = 10;}\n",
       "            val = val.toFixed(fixed)\n",
       "        }\n",
       "        key += \"'\" + val + \"'\";\n",
       "        if(i != this.slider_ids.length-1) { key += ', ';}\n",
       "        else if(this.slider_ids.length == 1) { key += ',';}\n",
       "    }\n",
       "    key += \")\";\n",
       "\treturn this.keyMap[key];\n",
       "}\n",
       "\n",
       "SelectionWidget.prototype.set_frame = function(dim_val, dim_idx){\n",
       "\tthis.current_vals[dim_idx] = dim_val;\n",
       "    var current = this.get_key(this.current_vals);\n",
       "    if(current === undefined && !this.dynamic) {\n",
       "        return\n",
       "    }\n",
       "\tif (this.dynamic || !this.cached) {\n",
       "\t\tif (this.time === undefined) {\n",
       "\t\t\t// Do nothing the first time\n",
       "\t\t} else if ((this.timed === undefined) || ((this.time + this.timed) > Date.now())) {\n",
       "\t\t\tvar key = this.current_vals;\n",
       "\t\t\tif (!this.dynamic) {\n",
       "\t\t\t\tkey = this.get_key(key);\n",
       "\t\t\t}\n",
       "\t\t\tthis.queue.push(key);\n",
       "\t\t\treturn\n",
       "\t\t}\n",
       "\t}\n",
       "\tthis.queue = [];\n",
       "\tthis.time = Date.now();\n",
       "    if(this.dynamic) {\n",
       "        this.dynamic_update(this.current_vals)\n",
       "        return;\n",
       "    }\n",
       "    this.current_frame = current;\n",
       "    if(this.cached) {\n",
       "        this.update(current)\n",
       "    } else {\n",
       "        this.dynamic_update(current)\n",
       "    }\n",
       "}\n",
       "\n",
       "\n",
       "/* Define the ScrubberWidget class */\n",
       "function ScrubberWidget(frames, num_frames, id, interval, load_json, mode, cached, json_path, dynamic){\n",
       "    this.img_id = \"_anim_img\" + id;\n",
       "    this.slider_id = \"_anim_slider\" + id;\n",
       "    this.loop_select_id = \"_anim_loop_select\" + id;\n",
       "    this.id = id;\n",
       "    this.fig_id = \"fig_\" + id;\n",
       "    this.interval = interval;\n",
       "    this.current_frame = 0;\n",
       "    this.direction = 0;\n",
       "    this.dynamic = dynamic;\n",
       "    this.timer = null;\n",
       "    this.load_json = load_json;\n",
       "    this.mode = mode;\n",
       "    this.cached = cached;\n",
       "    this.frames = frames;\n",
       "    this.cache = {};\n",
       "    this.length = num_frames;\n",
       "\tthis.json_path = json_path;\n",
       "    document.getElementById(this.slider_id).max = this.length - 1;\n",
       "    this.init_slider(0);\n",
       "\tthis.wait = false;\n",
       "\tthis.queue = [];\n",
       "}\n",
       "\n",
       "ScrubberWidget.prototype = new HoloViewsWidget;\n",
       "\n",
       "ScrubberWidget.prototype.set_frame = function(frame){\n",
       "\tthis.current_frame = frame;\n",
       "\twidget = document.getElementById(this.slider_id);\n",
       "    if (widget === null) {\n",
       "        this.pause_animation();\n",
       "        return\n",
       "    }\n",
       "    widget.value = this.current_frame;\n",
       "    if(this.cached) {\n",
       "        this.update(frame)\n",
       "    } else {\n",
       "        this.dynamic_update(frame)\n",
       "    }\n",
       "}\n",
       "\n",
       "\n",
       "ScrubberWidget.prototype.process_error = function(msg){\n",
       "\tif (msg.content.ename === 'StopIteration') {\n",
       "\t\tthis.pause_animation();\n",
       "\t\tthis.stopped = true;\n",
       "\t\tvar keys = Object.keys(this.frames)\n",
       "\t\tthis.length = keys.length;\n",
       "\t\tdocument.getElementById(this.slider_id).max = this.length-1;\n",
       "\t\tdocument.getElementById(this.slider_id).value = this.length-1;\n",
       "\t\tthis.current_frame = this.length-1;\n",
       "\t}\n",
       "}\n",
       "\n",
       "\n",
       "ScrubberWidget.prototype.get_loop_state = function(){\n",
       "    var button_group = document[this.loop_select_id].state;\n",
       "    for (var i = 0; i < button_group.length; i++) {\n",
       "        var button = button_group[i];\n",
       "        if (button.checked) {\n",
       "            return button.value;\n",
       "        }\n",
       "    }\n",
       "    return undefined;\n",
       "}\n",
       "\n",
       "\n",
       "ScrubberWidget.prototype.next_frame = function() {\n",
       "\tif (this.dynamic || !this.cached) {\n",
       "\t\tif (this.wait) {\n",
       "\t\t\treturn\n",
       "\t\t}\n",
       "\t\tthis.wait = true;\n",
       "\t}\n",
       "\tif (this.dynamic && this.current_frame + 1 >= this.length) {\n",
       "\t\tthis.length += 1;\n",
       "        document.getElementById(this.slider_id).max = this.length-1;\n",
       "\t}\n",
       "    this.set_frame(Math.min(this.length - 1, this.current_frame + 1));\n",
       "}\n",
       "\n",
       "ScrubberWidget.prototype.previous_frame = function() {\n",
       "    this.set_frame(Math.max(0, this.current_frame - 1));\n",
       "}\n",
       "\n",
       "ScrubberWidget.prototype.first_frame = function() {\n",
       "    this.set_frame(0);\n",
       "}\n",
       "\n",
       "ScrubberWidget.prototype.last_frame = function() {\n",
       "    this.set_frame(this.length - 1);\n",
       "}\n",
       "\n",
       "ScrubberWidget.prototype.slower = function() {\n",
       "    this.interval /= 0.7;\n",
       "    if(this.direction > 0){this.play_animation();}\n",
       "    else if(this.direction < 0){this.reverse_animation();}\n",
       "}\n",
       "\n",
       "ScrubberWidget.prototype.faster = function() {\n",
       "    this.interval *= 0.7;\n",
       "    if(this.direction > 0){this.play_animation();}\n",
       "    else if(this.direction < 0){this.reverse_animation();}\n",
       "}\n",
       "\n",
       "ScrubberWidget.prototype.anim_step_forward = function() {\n",
       "    if(this.current_frame < this.length || (this.dynamic && !this.stopped)){\n",
       "        this.next_frame();\n",
       "    }else{\n",
       "        var loop_state = this.get_loop_state();\n",
       "        if(loop_state == \"loop\"){\n",
       "            this.first_frame();\n",
       "        }else if(loop_state == \"reflect\"){\n",
       "            this.last_frame();\n",
       "            this.reverse_animation();\n",
       "        }else{\n",
       "            this.pause_animation();\n",
       "            this.last_frame();\n",
       "        }\n",
       "    }\n",
       "}\n",
       "\n",
       "ScrubberWidget.prototype.anim_step_reverse = function() {\n",
       "    this.current_frame -= 1;\n",
       "    if(this.current_frame >= 0){\n",
       "        this.set_frame(this.current_frame);\n",
       "    } else {\n",
       "        var loop_state = this.get_loop_state();\n",
       "        if(loop_state == \"loop\"){\n",
       "            this.last_frame();\n",
       "        }else if(loop_state == \"reflect\"){\n",
       "            this.first_frame();\n",
       "            this.play_animation();\n",
       "        }else{\n",
       "            this.pause_animation();\n",
       "            this.first_frame();\n",
       "        }\n",
       "    }\n",
       "}\n",
       "\n",
       "ScrubberWidget.prototype.pause_animation = function() {\n",
       "    this.direction = 0;\n",
       "    if (this.timer){\n",
       "        clearInterval(this.timer);\n",
       "        this.timer = null;\n",
       "    }\n",
       "}\n",
       "\n",
       "ScrubberWidget.prototype.play_animation = function() {\n",
       "    this.pause_animation();\n",
       "    this.direction = 1;\n",
       "    var t = this;\n",
       "    if (!this.timer) this.timer = setInterval(function(){t.anim_step_forward();}, this.interval);\n",
       "}\n",
       "\n",
       "ScrubberWidget.prototype.reverse_animation = function() {\n",
       "    this.pause_animation();\n",
       "    this.direction = -1;\n",
       "    var t = this;\n",
       "    if (!this.timer) this.timer = setInterval(function(){t.anim_step_reverse();}, this.interval);\n",
       "}\n",
       "\n",
       "function extend(destination, source) {\n",
       "    for (var k in source) {\n",
       "        if (source.hasOwnProperty(k)) {\n",
       "            destination[k] = source[k];\n",
       "        }\n",
       "    }\n",
       "    return destination;\n",
       "}\n",
       "\n",
       "function update_widget(widget, values) {\n",
       "\tif (widget.hasClass(\"ui-slider\")) {\n",
       "\t\twidget.slider('option',\n",
       "\t\t\t\t\t  {'min': 0, 'max': values.length-1,\n",
       "\t\t\t\t\t   'dim_vals': values, 'value': 0,\n",
       "\t\t\t\t\t   'dim_labels': values})\n",
       "\t\twidget.slider('option', 'slide').call(widget, event, {'value': 0})\n",
       "\t} else {\n",
       "\t\twidget.empty();\n",
       "\t\tfor (var i=0; i<values.length; i++){\n",
       "\t\t\twidget.append($(\"<option>\", {\n",
       "\t\t\t\tvalue: i,\n",
       "\t\t\t\ttext: values[i]\n",
       "\t\t\t}))};\n",
       "\t\twidget.data('values', values);\n",
       "\t\twidget.data('value', 0);\n",
       "\t\twidget.trigger(\"change\");\n",
       "\t};\n",
       "}\n",
       "\n",
       "// Define MPL specific subclasses\n",
       "function MPLSelectionWidget() {\n",
       "\tSelectionWidget.apply(this, arguments);\n",
       "}\n",
       "\n",
       "function MPLScrubberWidget() {\n",
       "\tScrubberWidget.apply(this, arguments);\n",
       "}\n",
       "\n",
       "// Let them inherit from the baseclasses\n",
       "MPLSelectionWidget.prototype = Object.create(SelectionWidget.prototype);\n",
       "MPLScrubberWidget.prototype = Object.create(ScrubberWidget.prototype);\n",
       "\n",
       "// Define methods to override on widgets\n",
       "var MPLMethods = {\n",
       "\tinit_slider : function(init_val){\n",
       "\t\tif(this.load_json) {\n",
       "\t\t\tthis.from_json()\n",
       "\t\t} else {\n",
       "\t\t\tthis.update_cache();\n",
       "\t\t}\n",
       "\t\tthis.update(0);\n",
       "\t\tif(this.mode == 'nbagg') {\n",
       "\t\t\tthis.set_frame(init_val, 0);\n",
       "\t\t}\n",
       "\t},\n",
       "\tpopulate_cache : function(idx){\n",
       "\t\tvar cache_id = this.img_id+\"_\"+idx;\n",
       "\t\tif(this.mode == 'mpld3') {\n",
       "\t\t\tmpld3.draw_figure(cache_id, this.frames[idx]);\n",
       "\t\t} else {\n",
       "\t\t\tthis.cache[idx].html(this.frames[idx]);\n",
       "\t\t}\n",
       "\t\tif (this.embed) {\n",
       "\t\t\tdelete this.frames[idx];\n",
       "\t\t}\n",
       "\t},\n",
       "\tdynamic_update : function(current){\n",
       "\t\tif (this.dynamic) {\n",
       "\t\t\tcurrent = JSON.stringify(current);\n",
       "\t\t}\n",
       "\t\tfunction callback(msg){\n",
       "\t\t\t/* This callback receives data from Python as a string\n",
       "\t\t\t in order to parse it correctly quotes are sliced off*/\n",
       "\t\t\tif (msg.content.ename != undefined) {\n",
       "\t\t\t\tthis.process_error(msg);\n",
       "\t\t\t}\n",
       "\t\t\tif (msg.msg_type != \"execute_result\") {\n",
       "\t\t\t\tconsole.log(\"Warning: HoloViews callback returned unexpected data for key: (\", current, \") with the following content:\", msg.content)\n",
       "\t\t\t\tthis.time = undefined;\n",
       "\t\t\t\treturn\n",
       "\t\t\t}\n",
       "\t\t\tif (!(this.mode == 'nbagg')) {\n",
       "\t\t\t\tif(!(current in this.cache)) {\n",
       "\t\t\t\t\tvar data = msg.content.data['text/plain'].slice(1, -1);\n",
       "\t\t\t\t\tif(this.mode == 'mpld3'){\n",
       "\t\t\t\t\t\tdata = JSON.parse(data)[0];\n",
       "\t\t\t\t\t}\n",
       "\t\t\t\t\tthis.frames[current] = data;\n",
       "\t\t\t\t\tthis.update_cache();\n",
       "\t\t\t\t}\n",
       "\t\t\t\tthis.update(current);\n",
       "\t\t\t}\n",
       "\t\t\tthis.timed = (Date.now() - this.time) * 1.5;\n",
       "\t\t\tthis.wait = false;\n",
       "\t\t\tif (this.queue.length > 0) {\n",
       "\t\t\t\tvar current_vals = this.queue[this.queue.length-1];\n",
       "\t\t\t\tthis.time = Date.now();\n",
       "\t\t\t\tthis.dynamic_update(current_vals);\n",
       "\t\t\t\tthis.queue = [];\n",
       "\t\t\t}\n",
       "\t\t}\n",
       "\t\tvar kernel = IPython.notebook.kernel;\n",
       "\t\tcallbacks = {iopub: {output: $.proxy(callback, this)}};\n",
       "\t\tvar cmd = \"holoviews.plotting.widgets.NdWidget.widgets['\" + this.id + \"'].update(\" + current + \")\";\n",
       "\t\tkernel.execute(\"import holoviews;\" + cmd, callbacks, {silent : false});\n",
       "\t}\n",
       "}\n",
       "\n",
       "// Extend MPL widgets with backend specific methods\n",
       "extend(MPLSelectionWidget.prototype, MPLMethods);\n",
       "extend(MPLScrubberWidget.prototype, MPLMethods);\n",
       "</script>\n",
       "\n",
       "\n",
       "<link rel=\"stylesheet\" href=\"https://code.jquery.com/ui/1.10.4/themes/smoothness/jquery-ui.css\">\n",
       "<style>div.hololayout {\n",
       "    display: flex;\n",
       "    align-items: center;\n",
       "    margin: 0;\n",
       "}\n",
       "\n",
       "div.holoframe {\n",
       "\twidth: 75%;\n",
       "}\n",
       "\n",
       "div.holowell {\n",
       "    display: flex;\n",
       "    align-items: center;\n",
       "    margin: 0;\n",
       "}\n",
       "\n",
       "form.holoform {\n",
       "    background-color: #fafafa;\n",
       "    border-radius: 5px;\n",
       "    overflow: hidden;\n",
       "\tpadding-left: 0.8em;\n",
       "    padding-right: 0.8em;\n",
       "    padding-top: 0.4em;\n",
       "    padding-bottom: 0.4em;\n",
       "}\n",
       "\n",
       "div.holowidgets {\n",
       "    padding-right: 0;\n",
       "\twidth: 25%;\n",
       "}\n",
       "\n",
       "div.holoslider {\n",
       "    min-height: 0 !important;\n",
       "    height: 0.8em;\n",
       "    width: 60%;\n",
       "}\n",
       "\n",
       "div.holoformgroup {\n",
       "    padding-top: 0.5em;\n",
       "    margin-bottom: 0.5em;\n",
       "}\n",
       "\n",
       "div.hologroup {\n",
       "    padding-left: 0;\n",
       "    padding-right: 0.8em;\n",
       "    width: 50%;\n",
       "}\n",
       "\n",
       ".holoselect {\n",
       "    width: 92%;\n",
       "    margin-left: 0;\n",
       "    margin-right: 0;\n",
       "}\n",
       "\n",
       ".holotext {\n",
       "    width: 100%;\n",
       "    padding-left:  0.5em;\n",
       "    padding-right: 0;\n",
       "}\n",
       "\n",
       ".holowidgets .ui-resizable-se {\n",
       "\tvisibility: hidden\n",
       "}\n",
       "\n",
       ".holoframe > .ui-resizable-se {\n",
       "\tvisibility: hidden\n",
       "}\n",
       "\n",
       ".holowidgets .ui-resizable-s {\n",
       "\tvisibility: hidden\n",
       "}\n",
       "</style>\n",
       "\n",
       "\n",
       "<div>\n",
       "<img src='data:image/png;base64,iVBORw0KGgoAAAANSUhEUgAAABkAAAAZCAIAAABLixI0AAAACXBIWXMAAAsTAAALEwEAmpwYAAAAB3RJTUUH3wkCDDIOi3cusgAABT1JREFUOMtVlclvG2UYh3/fMovHe53FThySNHZomrRJl6QR0AJdpVblQBEHJC4ciipxAgmO3PgPEP8BQkIsRUJUSF1oqGih0JY2CtnjOLGz2Em8xPbMeL6Pw9RJOprLjPT+5tH7Pu83JE7pqeHh8wMD2evfyXMXf/nxB2FZo6dPNzVHvvr6GxMQeOEigARswNzzUgK6x8NagPzS0nqxODQ62nLn1xMnX99/eLC3sGVROj2/IBxHABKgANlzM4ACTuMRAOecNREiAWtzc0NIEu/M37zVMTWeqlrpUDg1M7NTVgdkowwvxqGRRV1CE8jOznq7uhYAi2CpXtdVVQE4QAAdCAAGwAAJyEa9Amh7PsAihBBAABrg1XUfpe3bxTXb8XR0WJa1VSzWGyAcUAEVoIAARIMOQH2HC4AA6lKW8/n9Pm/Ahl4zV8fGTg0PtzQ3K3tA3GId8AO+BqZLt8sFQKE0GouRSkWtFM63KV0Vy1rJhN44k56cFFI6exJ3MBWANACVHS63aw5QtutVVT/4xWfHv/0ylytmHvx56sIFLxACfIABGIAf8ANRn++9y5evXrkS0XWXd5dLJWRfOHwspA1tr4iFtP3gD8/apjCtSDiyQYhZKNA94wOQTCQPhfzm9FTJH8jn84Tz3SyPlEQ4vf0Dt5/MPE5vpVObzQbxqvaDdL731MnWnh5pmsxxdE3rTCZfO3u2FbL6+2+hzpcKwXA2ldrNUgAVII7TMXhkZnzcAQTgAWI6sgV7YmKivLra1tFxMJk4Ho/r5fLy3btsYS7JHL1YoeHQKldKhcLzLNcdlRDOWDgczuVyOtDt4yN9gRYVmc161TTLmYw9P9e8OHcU5dG2fa3EmhNyKjGwROmzZ8+YqlIAKsDd9jtOenIy1t8vgDJQtuvYrjRT0kMQBRIUQxqSXkSDUIO0YAulvdfxGk/u33eVZs2EeBvu6gCjtKW7Oz81xQBhI73mtATQn/BuZ6wTrezsYX+1Jn+aNR8sl9Zb47l4/O+HD2u27QDgnHUQwhvKuFmRaLS2tkZsmwJSQpqIUzHYyynndx5t/1Vy5gXyhMhorEJIKpViQB0QnFNlZzkbdExRhBAckIAFbFXFetkpg94er004WK6jCniamrRAYHlmxhXFtWTXVfW50SQYDjvVKm+YHVMR10G5VAGrcWAohkEVpbC1RRo7QN2mS0BzuQiJHziwMTurAwrgBTo95NVjnshb3XaF9q1MTM7VeWNv6kJQgAISYAAHuARUQAHA2NCZM35KJ27c6KA4YiBXJlpVro5bkaGN2mStsCy8gAXobpyU7iFhAgxQAB40jMHh4WhnJ6nVpsfGVjOZUQMhi40k9K1FqQZI4ogffd3k33GPobTb5kCIFmriEYjgnABao60KwD68eCnz5PH0vXsr4+OsVIpRvNmpnLvQEozRpm5vxAP107dx+RMlvGTcmw7Xle6DwZlsdbZY05qbAq2ta9msCkhAcM4+yv+3uFZWAA+gA5pEaUOUnpaMohb+/BK7+j76r4IliFoyAv9EjsZ4ZbMmyOKqmdvciiWTL4+OUsY8mkY554d7okGyciuHqgQFVIABlkJ9fV44FLFrz8ecuIZ3u6offzD1fSnFmJSgle35mzcdVQ1Eo23B4Eh7lJdWNgZGohM/r5QAjZEoaDzi0TfKPlFDV/KF35mqs0NN1v3iRrqqAT7Xbdti6UXPImKZaf5SQiUBtAIG0OVXXnmnDUJWb9nET7D8VPba7pAJTKRnxPUpI+v0BXlApZPrlgDaCTke1VqaaLZC/wesjSVVF5Ac7QAAAABJRU5ErkJggg=='\n",
       "     style='width:25px;height:25px; border-radius:12px;'/>\n",
       "\n",
       "HoloViewsJS successfully loaded in this cell.\n",
       "</div>\n"
      ],
      "text/plain": [
       "<IPython.core.display.HTML object>"
      ]
     },
     "metadata": {},
     "output_type": "display_data"
    }
   ],
   "source": [
    "import holoviews as hv\n",
    "hv.notebook_extension()\n",
    "%output holomap='widgets' fig='svg'\n",
    "%matplotlib inline"
   ]
  },
  {
   "cell_type": "markdown",
   "metadata": {},
   "source": [
    "# Introduction"
   ]
  },
  {
   "cell_type": "markdown",
   "metadata": {},
   "source": [
    "Gaussian processes are a useful way to interpolate between known values. Unlike other methods like regression and neural networks, they\n",
    "- provide a measure of uncertainty around predictions\n",
    "- can be optimized exactly, not just stochastically\n",
    "- make it straightforward to include prior information.\n",
    "\n",
    "This notebook will introduce Gaussian processes from a mathematical perspective using pure Python and NumPy code. The first section covers some background about multivariate Gaussian distributions. Later sections then describe Gaussian processes and demonstrate their use on a toy example."
   ]
  },
  {
   "cell_type": "markdown",
   "metadata": {},
   "source": [
    "# Gaussian distributions"
   ]
  },
  {
   "cell_type": "markdown",
   "metadata": {},
   "source": [
    "Random variables are often modelled by a statistical distribution. A very common example is the Gaussian distribution, sometimes called the normal distribution. A Gaussian distribution is characterised by its mean (or expected) value, and its variance (level of noise).\n",
    "\n",
    "The plot below shows 500 points sampled from a Gaussian distribution characterised by mu and var. Try changing their values to see how it affects the shape of the distribution."
   ]
  },
  {
   "cell_type": "code",
   "execution_count": 1,
   "metadata": {
    "collapsed": false
   },
   "outputs": [
    {
     "ename": "NameError",
     "evalue": "name 'hv' is not defined",
     "output_type": "error",
     "traceback": [
      "\u001b[0;31m---------------------------------------------------------------------------\u001b[0m",
      "\u001b[0;31mNameError\u001b[0m                                 Traceback (most recent call last)",
      "\u001b[0;32m<ipython-input-1-567eaae1aa30>\u001b[0m in \u001b[0;36m<module>\u001b[0;34m()\u001b[0m\n\u001b[1;32m      2\u001b[0m     \u001b[0;32mreturn\u001b[0m \u001b[0mhv\u001b[0m\u001b[0;34m.\u001b[0m\u001b[0mScatter\u001b[0m\u001b[0;34m(\u001b[0m\u001b[0mnp\u001b[0m\u001b[0;34m.\u001b[0m\u001b[0mrandom\u001b[0m\u001b[0;34m.\u001b[0m\u001b[0mnormal\u001b[0m\u001b[0;34m(\u001b[0m\u001b[0msize\u001b[0m\u001b[0;34m=\u001b[0m\u001b[0;34m(\u001b[0m\u001b[0;36m100\u001b[0m\u001b[0;34m,\u001b[0m\u001b[0;36m2\u001b[0m\u001b[0;34m)\u001b[0m\u001b[0;34m,\u001b[0m \u001b[0mloc\u001b[0m\u001b[0;34m=\u001b[0m\u001b[0;34m(\u001b[0m\u001b[0mmu\u001b[0m\u001b[0;34m,\u001b[0m \u001b[0;36m0\u001b[0m\u001b[0;34m)\u001b[0m\u001b[0;34m,\u001b[0m \u001b[0mscale\u001b[0m\u001b[0;34m=\u001b[0m\u001b[0mv\u001b[0m\u001b[0;34m)\u001b[0m\u001b[0;34m,\u001b[0m \u001b[0mextents\u001b[0m\u001b[0;34m=\u001b[0m\u001b[0;34m(\u001b[0m\u001b[0;34m-\u001b[0m\u001b[0;36m3\u001b[0m\u001b[0;34m,\u001b[0m\u001b[0;34m-\u001b[0m\u001b[0;36m3\u001b[0m\u001b[0;34m,\u001b[0m\u001b[0;36m3\u001b[0m\u001b[0;34m,\u001b[0m\u001b[0;36m3\u001b[0m\u001b[0;34m)\u001b[0m\u001b[0;34m)\u001b[0m\u001b[0;34m\u001b[0m\u001b[0m\n\u001b[1;32m      3\u001b[0m \u001b[0;34m\u001b[0m\u001b[0m\n\u001b[0;32m----> 4\u001b[0;31m \u001b[0mdim_v\u001b[0m \u001b[0;34m=\u001b[0m \u001b[0mhv\u001b[0m\u001b[0;34m.\u001b[0m\u001b[0mDimension\u001b[0m\u001b[0;34m(\u001b[0m\u001b[0;34m'var'\u001b[0m\u001b[0;34m,\u001b[0m \u001b[0mrange\u001b[0m\u001b[0;34m=\u001b[0m\u001b[0;34m(\u001b[0m\u001b[0;36m0.1\u001b[0m\u001b[0;34m,\u001b[0m \u001b[0;36m2.0\u001b[0m\u001b[0;34m)\u001b[0m\u001b[0;34m)\u001b[0m\u001b[0;34m\u001b[0m\u001b[0m\n\u001b[0m\u001b[1;32m      5\u001b[0m \u001b[0mdim_mu\u001b[0m \u001b[0;34m=\u001b[0m \u001b[0mhv\u001b[0m\u001b[0;34m.\u001b[0m\u001b[0mDimension\u001b[0m\u001b[0;34m(\u001b[0m\u001b[0;34m'mu'\u001b[0m\u001b[0;34m,\u001b[0m \u001b[0mrange\u001b[0m\u001b[0;34m=\u001b[0m\u001b[0;34m(\u001b[0m\u001b[0;34m-\u001b[0m\u001b[0;36m2.0\u001b[0m\u001b[0;34m,\u001b[0m \u001b[0;36m2.0\u001b[0m\u001b[0;34m)\u001b[0m\u001b[0;34m)\u001b[0m\u001b[0;34m\u001b[0m\u001b[0m\n\u001b[1;32m      6\u001b[0m \u001b[0;34m\u001b[0m\u001b[0m\n",
      "\u001b[0;31mNameError\u001b[0m: name 'hv' is not defined"
     ]
    }
   ],
   "source": [
    "def plot_gaussian(mu, v):\n",
    "    return hv.Scatter(np.random.normal(size=(100,2), loc=(mu, 0), scale=v), extents=(-3,-3,3,3))\n",
    "\n",
    "dim_v = hv.Dimension('var', range=(0.1, 2.0))\n",
    "dim_mu = hv.Dimension('mu', range=(-2.0, 2.0))\n",
    "\n",
    "dmap = hv.DynamicMap(plot_gaussian, kdims=[dim_mu, dim_v])\n",
    "dmap"
   ]
  },
  {
   "cell_type": "markdown",
   "metadata": {},
   "source": [
    "In the example above, each sample is a 2-dimensional vector. In principle, we can sample from a distribution with any number of dimensions in a similar way.\n",
    "\n",
    "However, there is something missing from this example. Even though we are in a 2-dimensional space, we only have a single scalar value for each of the mean and the variance. Because of this, changing the mean only moves the distribution from left to right, not up and down. In addition, changing the variance can only make the distribution more or less spread out, but does not change its shape."
   ]
  },
  {
   "cell_type": "code",
   "execution_count": null,
   "metadata": {
    "collapsed": false
   },
   "outputs": [],
   "source": [
    "def plot_gaussian(mu1, mu2, v1, v2):\n",
    "    xs = np.random.normal(size=(100), loc=(mu1), scale=v1)\n",
    "    ys = np.random.normal(size=(100), loc=(mu2), scale=v2)\n",
    "    return hv.Scatter(np.dstack((xs, ys)).reshape(100,2), extents=(-3,-3,3,3))\n",
    "\n",
    "dim_vs = [hv.Dimension('var_'+d, range=(0.1, 1.0)) for d in ['x', 'y']]\n",
    "dim_mus = [hv.Dimension('mu_'+d, range=(-1.0, 1.0)) for d in ['x', 'y']]\n",
    "\n",
    "dmap = hv.DynamicMap(plot_gaussian, kdims=dim_mus+dim_vs)\n",
    "dmap"
   ]
  },
  {
   "cell_type": "markdown",
   "metadata": {},
   "source": [
    "We now have 2-dimensional mean and variance values - but there is still something missing. Although changing the variance values can now alter the shape of the distribution, the result is always symmetric in the x and y dimensions. There are plenty of valid Gaussian distributions that don't have this kind of symmetry, like the one below."
   ]
  },
  {
   "cell_type": "code",
   "execution_count": null,
   "metadata": {
    "collapsed": false
   },
   "outputs": [],
   "source": [
    "hv.Scatter(np.random.multivariate_normal(mean=(0, 0), cov=np.array([[10,4],[1,1]]), size=[300]))"
   ]
  },
  {
   "cell_type": "markdown",
   "metadata": {},
   "source": [
    "In this case, it's not enough to know how much the x and y components vary. We also need a measure of how much the two vary together. This is captured in a structure called the _covariance matrix_. It has four components, which describe the seperate and joint variances of the two dimensions.\n",
    "\n",
    " |  |  \n",
    " --- | --- |  \n",
    "How much x varies | How y varies with x\n",
    "How x varies with y | How much y varies"
   ]
  },
  {
   "cell_type": "markdown",
   "metadata": {},
   "source": [
    "The widget below shows the covariance matrices and corresponding distributions for a range of covariance values, given some fixed variances for x and y."
   ]
  },
  {
   "cell_type": "code",
   "execution_count": null,
   "metadata": {
    "collapsed": false
   },
   "outputs": [],
   "source": [
    "%opts Raster style(cmap='bone_r')\n",
    "\n",
    "def plot_covariance(v11, v22, v12, v21):\n",
    "    return hv.Raster(np.array([[v11,v12],[v21,v22]]))\n",
    "\n",
    "def plot_gaussian(v11, v22, v12, v21):\n",
    "    return hv.Scatter(np.random.multivariate_normal(mean=(0, 0), cov=np.array([[v11,v12],[v21,v22]]), size=[20]))\n",
    "\n",
    "vals = [-1.0, 0.0, 1.0, 2.0]\n",
    "vals2 = [1.0, 3.0, 5.0]\n",
    "\n",
    "dim_vs = [hv.Dimension('var_'+d, values=vals2) for d in ['x', 'y']] + \\\n",
    "        [hv.Dimension('cov_'+d, values=vals) for d in ['xy', 'yx']]\n",
    "        \n",
    "cov_maps = {(v11, v22, v12, v21): plot_covariance(v11, v22, v12, v21) for v11 in vals2 for v22 in vals2 for v12 in vals for v21 in vals}\n",
    "\n",
    "dist_maps = {(v11, v22, v12, v21): plot_gaussian(v11, v22, v12, v21) for v11 in vals2 for v22 in vals2 for v12 in vals for v21 in vals}\n",
    "    \n",
    "cmap = hv.HoloMap(cov_maps, kdims=dim_vs, label=\"Covariance matrices\")\n",
    "dmap = hv.HoloMap(dist_maps, kdims=dim_vs, label=\"Distributions\")\n",
    "cmap.grid(dimensions=dim_vs[2:]) + dmap.grid(dimensions=dim_vs[2:])"
   ]
  },
  {
   "cell_type": "markdown",
   "metadata": {},
   "source": [
    "We have seen that a Gaussian distribution in two dimensions can be described by six values, two describing the mean and four $(=2^2)$ describing the covariance. This holds true for any number of dimensions: a Gaussian distribution in n-dimensional space needs $n + n^2$ parameters to describe it."
   ]
  },
  {
   "cell_type": "markdown",
   "metadata": {},
   "source": [
    "# Gaussian processes"
   ]
  },
  {
   "cell_type": "markdown",
   "metadata": {},
   "source": [
    "The previous section looked at Gaussian distributions over 2-dimensional vectors. Gaussian processes extend this idea to describe probability distributions over functions.\n",
    "\n",
    "The key idea is to treat functions as members of a very high dimensional vector space, with each domain value $x_i$ corresponding to a different dimension. Then the function's definition is just a list of its values at each point. \n",
    "\n",
    "This definition leads naturally to the idea of a random function, where the components of the vector are chosen at random. In general, such functions will not even be continuous. The plot below shows a sample of a random function, with dotted lines showing interpolation between the points."
   ]
  },
  {
   "cell_type": "code",
   "execution_count": null,
   "metadata": {
    "collapsed": false
   },
   "outputs": [],
   "source": [
    "domain = np.arange(-1, 1, step=0.01)\n",
    "values = [np.random.random() for x in domain]\n",
    "\n",
    "matplotlib.rcParams['lines.linewidth'] = 0.5\n",
    "matplotlib.rcParams['lines.linestyle'] = 'dotted'\n",
    "plt.plot(domain, values)\n",
    "plt.scatter(domain, values)"
   ]
  },
  {
   "cell_type": "markdown",
   "metadata": {},
   "source": [
    "Gaussian processes are distributions over random functions. For each x-value, they define a Gaussian distribution over possible y-values. "
   ]
  },
  {
   "cell_type": "code",
   "execution_count": null,
   "metadata": {
    "collapsed": false
   },
   "outputs": [],
   "source": [
    "domain = np.arange(-1, 1, step=0.1)\n",
    "values = [np.random.random() for x in domain]\n",
    "errors = [np.random.random() for x in domain]\n",
    "plt.errorbar(domain, values, errors)\n",
    "matplotlib.rcParams['lines.linewidth'] = 1.0\n",
    "matplotlib.rcParams['lines.linestyle'] = 'default'"
   ]
  },
  {
   "cell_type": "markdown",
   "metadata": {},
   "source": [
    "The point of Gaussian processes is to be able to impose conditions on random functions. Two conditions which are particularly important for real applications are 1) continuity and 2) agreement with specific values at given points. The interaction between these two conditions is what drives Gaussian processes.\n",
    "\n",
    "Recall that we are treating these functions as vectors over the space of the x-values. This gives us an analogy between the continuity of a random function and the covariance of a multivariate Gaussian distribution. Specifically, if the function is continuous, the covariance between dimensions representing neighbouring x-values will be close to one."
   ]
  },
  {
   "cell_type": "markdown",
   "metadata": {},
   "source": [
    "## The covariance function"
   ]
  },
  {
   "cell_type": "markdown",
   "metadata": {},
   "source": [
    "In the first section, we saw that a Gaussian distribution is defined by a mean value and a covariance matrix. In a similar way, we can define a Gaussian process by specifying a mean function and a covariance function. \n",
    "\n",
    "The mean function is not considered to be very important, so it's generally set to be equal to zero. As discussed above, the covariance function can be seen as describing the similarity of nearby points.\n",
    "\n",
    "We'll use a squared exponential covariance.\n",
    "\n",
    "$$\\begin{aligned} \\mu(u) &=0 \\\\ k(u,v) &= \\theta_1\\exp\\left(-\\frac{\\theta_2}{2}(u - v)^2\\right) \\end{aligned}$$"
   ]
  },
  {
   "cell_type": "code",
   "execution_count": null,
   "metadata": {
    "collapsed": true
   },
   "outputs": [],
   "source": [
    "def exponential_cov(u, v, params):\n",
    "    return params[0] * np.exp( -0.5 * params[1] * np.subtract.outer(u, v)**2)"
   ]
  },
  {
   "cell_type": "markdown",
   "metadata": {},
   "source": [
    "Here is what the squared exponential looks like for a couple of values."
   ]
  },
  {
   "cell_type": "code",
   "execution_count": null,
   "metadata": {
    "collapsed": false
   },
   "outputs": [],
   "source": [
    "x_pred = np.linspace(-3, 3, 1000)\n",
    "I = [1, 10]\n",
    "plt.plot(x_pred, exponential_cov(-1.0, x_pred, I))\n",
    "plt.plot(x_pred, exponential_cov(0.5, x_pred, I))"
   ]
  },
  {
   "cell_type": "markdown",
   "metadata": {},
   "source": [
    "This covariance function approaches one when the input values are very similar, then drops away as the input values become more distinct. If we wished, we could use a different parameter to alter how quickly this happens."
   ]
  },
  {
   "cell_type": "code",
   "execution_count": null,
   "metadata": {
    "collapsed": false
   },
   "outputs": [],
   "source": [
    "x_pred = np.linspace(-3, 3, 1000)\n",
    "I = [1, 2]\n",
    "plt.plot(x_pred, exponential_cov(-1.0, x_pred, I))\n",
    "I = [1, 30]\n",
    "plt.plot(x_pred, exponential_cov(0.5, x_pred, I))"
   ]
  },
  {
   "cell_type": "markdown",
   "metadata": {},
   "source": [
    "This parameter corresponds to how quickly we expect our random function to change."
   ]
  },
  {
   "cell_type": "markdown",
   "metadata": {},
   "source": [
    "## Conditioning distributions"
   ]
  },
  {
   "cell_type": "markdown",
   "metadata": {},
   "source": [
    "We can use the covariance to find the probability distribution of a point conditional on our current information."
   ]
  },
  {
   "cell_type": "markdown",
   "metadata": {},
   "source": [
    "$$p(u \\mid v) = \\mathcal{N}(\\mu_u + \\Sigma_{uv}\\Sigma_v^{-1}(y_v-\\mu_v), \\Sigma_u-\\Sigma_{uv}\\Sigma_v^{-1}\\Sigma_{uv}^T)$$"
   ]
  },
  {
   "cell_type": "code",
   "execution_count": null,
   "metadata": {
    "collapsed": true
   },
   "outputs": [],
   "source": [
    "def conditional(u, v, y_v, params=[1, 10]):\n",
    "    cov_u = exponential_cov(u, u, params)\n",
    "    cov_v = exponential_cov(v, v, params)\n",
    "    cov_uv = exponential_cov(u, v, params)\n",
    "    \n",
    "    cov_v_inv = np.linalg.inv(cov_v)\n",
    "    cov_T_uv = exponential_cov(v, u, params)\n",
    "    \n",
    "    mu = cov_uv.dot(cov_v_inv).dot(y_v)\n",
    "    sigma = cov_u - cov_uv.dot(cov_v_inv).dot(cov_T_uv)\n",
    "\n",
    "    return(mu.squeeze(), sigma.squeeze())"
   ]
  },
  {
   "cell_type": "markdown",
   "metadata": {},
   "source": [
    "This function takes in some known points, v, along with their values, y_v. The u parameter is the points we would like predictions for.\n",
    "\n",
    "NB: Don't get confused by the word covariance - we are not finding the covariance between two series. We are _assuming_ a covariance function and using it to constrain the new values."
   ]
  },
  {
   "cell_type": "markdown",
   "metadata": {},
   "source": [
    "## Plotting the result"
   ]
  },
  {
   "cell_type": "markdown",
   "metadata": {},
   "source": [
    "If we have values for points $v$, we can use our conditional function to constrain the values at other points in the domain. First, let's see what it looks like in the absence of prior information."
   ]
  },
  {
   "cell_type": "code",
   "execution_count": null,
   "metadata": {
    "collapsed": false
   },
   "outputs": [],
   "source": [
    "v = []\n",
    "y_v = []\n",
    "\n",
    "xpts = np.arange(-3, 3, step=0.01)\n",
    "conds = [conditional(x, v, y_v) for x in xpts]\n",
    "\n",
    "plt.figure(figsize=(7,4))\n",
    "plt.errorbar(xpts, [c[0] for c in conds], yerr=[c[1] for c in conds], capsize=0)\n",
    "plt.ylim(-3, 3)\n",
    "\n",
    "for i, _ in enumerate(v):\n",
    "    plt.plot(v[i], y_v[i], \"ro\")"
   ]
  },
  {
   "cell_type": "markdown",
   "metadata": {},
   "source": [
    "Every point has the same expected value and variance, reflecting our default expectations. We'll now add data for three observed points and see how this changes."
   ]
  },
  {
   "cell_type": "code",
   "execution_count": null,
   "metadata": {
    "collapsed": true
   },
   "outputs": [],
   "source": [
    "v = [-2.5, -0.7, 2.0]\n",
    "y_v = [0.5, -0.3, -2.5]\n",
    "\n",
    "xpts = np.arange(-3, 3, step=0.01)\n",
    "conds = [conditional(x, v, y_v) for x in xpts]"
   ]
  },
  {
   "cell_type": "code",
   "execution_count": null,
   "metadata": {
    "collapsed": false
   },
   "outputs": [],
   "source": [
    "plt.figure(figsize=(7,4))\n",
    "plt.errorbar(xpts, [c[0] for c in conds], yerr=[c[1] for c in conds], capsize=0)\n",
    "plt.ylim(-3, 3)\n",
    "\n",
    "for i, _ in enumerate(v):\n",
    "    plt.plot(v[i], y_v[i], \"ro\")"
   ]
  },
  {
   "cell_type": "markdown",
   "metadata": {},
   "source": [
    "The function is interpolated between the known values, giving a range of possibilities at each point. Using different parameter values in the covariance function will lead to quite different interpolations, as shown below."
   ]
  },
  {
   "cell_type": "code",
   "execution_count": null,
   "metadata": {
    "collapsed": false
   },
   "outputs": [],
   "source": [
    "%opts Scatter style(color='red')\n",
    "\n",
    "def plot_gp(p):\n",
    "    conds = [conditional(x, v, y_v, params=[1, p]) for x in xpts]\n",
    "    spread = hv.Spread((xpts, [c[0] for c in conds], [c[1] for c in conds]))\n",
    "    return spread\n",
    "        \n",
    "dim_p = hv.Dimension('p', values=np.arange(1, 20).tolist())\n",
    "pmap = hv.DynamicMap(plot_gp, kdims=[dim_p], label=\"Gaussian processes\")\n",
    "pmap * hv.Scatter(np.dstack((v, y_v))[0])"
   ]
  },
  {
   "cell_type": "markdown",
   "metadata": {},
   "source": [
    "The larger the value of p, the more quickly our certainty about the functions behaviour drops away. "
   ]
  },
  {
   "cell_type": "code",
   "execution_count": null,
   "metadata": {
    "collapsed": true
   },
   "outputs": [],
   "source": []
  }
 ],
 "metadata": {
  "kernelspec": {
   "display_name": "Python 3",
   "language": "python",
   "name": "python3"
  },
  "language_info": {
   "codemirror_mode": {
    "name": "ipython",
    "version": 3
   },
   "file_extension": ".py",
   "mimetype": "text/x-python",
   "name": "python",
   "nbconvert_exporter": "python",
   "pygments_lexer": "ipython3",
   "version": "3.5.2"
  }
 },
 "nbformat": 4,
 "nbformat_minor": 2
}
