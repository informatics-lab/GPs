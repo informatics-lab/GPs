{
 "cells": [
  {
   "cell_type": "markdown",
   "metadata": {},
   "source": [
    "# Simple Gaussian Processes with Numpy\n",
    "\n",
    "Based on https://blog.dominodatalab.com/fitting-gaussian-process-models-python/"
   ]
  },
  {
   "cell_type": "code",
   "execution_count": 1,
   "metadata": {
    "collapsed": false
   },
   "outputs": [],
   "source": [
    "import numpy as np\n",
    "import matplotlib.pylab as plt\n",
    "import seaborn as sns\n",
    "from IPython.display import display\n",
    "import ipywidgets as widgets\n",
    "%matplotlib inline"
   ]
  },
  {
   "cell_type": "markdown",
   "metadata": {},
   "source": [
    "## The covariance function"
   ]
  },
  {
   "cell_type": "markdown",
   "metadata": {},
   "source": [
    "A GP needs a mean function and a covariance function. For the mean, we'll just use 0. <br/>\n",
    "For the covariance, we'll use a squared exponential.\n",
    "\n",
    "$$\\begin{aligned} \\mu(u) &=0 \\\\ k(u,v) &= \\theta_1\\exp\\left(-\\frac{\\theta_2}{2}(u - v)^2\\right) \\end{aligned}$$"
   ]
  },
  {
   "cell_type": "code",
   "execution_count": 2,
   "metadata": {
    "collapsed": true
   },
   "outputs": [],
   "source": [
    "def exponential_cov(u, v, params):\n",
    "    return params[0] * np.exp( -0.5 * params[1] * np.subtract.outer(u, v)**2)"
   ]
  },
  {
   "cell_type": "markdown",
   "metadata": {},
   "source": [
    "Here is what the squared exponential looks like for a couple of values."
   ]
  },
  {
   "cell_type": "code",
   "execution_count": 3,
   "metadata": {
    "collapsed": false
   },
   "outputs": [
    {
     "data": {
      "text/plain": [
       "[<matplotlib.lines.Line2D at 0x7fd047681438>]"
      ]
     },
     "execution_count": 3,
     "metadata": {},
     "output_type": "execute_result"
    },
    {
     "data": {
      "image/png": "[encoded data removed]",
      "text/plain": [
       "<matplotlib.figure.Figure at 0x7fd047681588>"
      ]
     },
     "metadata": {},
     "output_type": "display_data"
    }
   ],
   "source": [
    "x_pred = np.linspace(-3, 3, 1000)\n",
    "I = [1, 10]\n",
    "plt.plot(x_pred, exponential_cov(0.5, x_pred, I))\n",
    "plt.plot(x_pred, exponential_cov(0.7, x_pred, I))"
   ]
  },
  {
   "cell_type": "markdown",
   "metadata": {},
   "source": [
    "## Conditioning distributions"
   ]
  },
  {
   "cell_type": "markdown",
   "metadata": {},
   "source": [
    "We can use the covariance to find the probability distribution of a point conditional on our current information."
   ]
  },
  {
   "cell_type": "markdown",
   "metadata": {},
   "source": [
    "$$p(u \\mid v) = \\mathcal{N}(\\mu_u + \\Sigma_{uv}\\Sigma_v^{-1}(y_v-\\mu_v), \\Sigma_u-\\Sigma_{uv}\\Sigma_v^{-1}\\Sigma_{uv}^T)$$"
   ]
  },
  {
   "cell_type": "code",
   "execution_count": 4,
   "metadata": {
    "collapsed": true
   },
   "outputs": [],
   "source": [
    "def conditional(u, v, y_v, params=[1, 10]):\n",
    "    cov_u = exponential_cov(u, u, params) # = 1 if u is a scalar\n",
    "    cov_v = exponential_cov(v, v, params) # = 1 if v is a scalar\n",
    "    cov_uv = exponential_cov(u, v, params)\n",
    "    \n",
    "    cov_v_inv = np.linalg.inv(cov_v)\n",
    "    cov_T_uv = exponential_cov(v, u, params)\n",
    "    \n",
    "    mu = cov_uv.dot(cov_v_inv).dot(y_v)\n",
    "    sigma = cov_u - cov_uv.dot(cov_v_inv).dot(cov_T_uv)\n",
    "\n",
    "    return(mu.squeeze(), sigma.squeeze())"
   ]
  },
  {
   "cell_type": "markdown",
   "metadata": {},
   "source": [
    "This function takes in some known points, v, along with their values, y_v. The u parameter is the points we would like predictions for.\n",
    "\n",
    "NB: Don't get confused by the word covariance - we are not finding the covariance between two series. We are _assuming_ a covariance function and using it to constrain the new values."
   ]
  },
  {
   "cell_type": "markdown",
   "metadata": {},
   "source": [
    "## Inspecting the matrices"
   ]
  },
  {
   "cell_type": "markdown",
   "metadata": {},
   "source": [
    "Let's look in more details at a couple of examples. We calculate $\\mu$ by multiplying the known $y$ values, $y_v$, by some matrix $\\Sigma_{uv}\\Sigma_v^{-1}$. Let's see what happens to this matrix as we change the input values, keeping the known points fixed."
   ]
  },
  {
   "cell_type": "code",
   "execution_count": 5,
   "metadata": {
    "collapsed": false
   },
   "outputs": [],
   "source": [
    "def get_multiplier(u):\n",
    "    v = [-0.6, 0.0, 0.2] # This is the points we already know\n",
    "    y_v = [0.9, 0.8, 0.9]\n",
    "    I = [1, 10]\n",
    "\n",
    "    cov_u = exponential_cov(u, u, I)\n",
    "    cov_v = exponential_cov(v, v, I)\n",
    "    cov_uv = exponential_cov(u, v, I)\n",
    "    cov_v_inv = np.linalg.inv(cov_v)\n",
    "    return cov_uv.dot(cov_v_inv)\n",
    "\n",
    "def show_multiplier(u):    \n",
    "    f = plt.figure(figsize=(2,2))\n",
    "    plt.matshow(get_multiplier(u), False)"
   ]
  },
  {
   "cell_type": "markdown",
   "metadata": {},
   "source": [
    "First, what happens if we ask for the values of the points we already know?"
   ]
  },
  {
   "cell_type": "code",
   "execution_count": 6,
   "metadata": {
    "collapsed": false
   },
   "outputs": [
    {
     "data": {
      "image/png": "[encoded data removed]",
      "text/plain": [
       "<matplotlib.figure.Figure at 0x7fd0476aa278>"
      ]
     },
     "metadata": {},
     "output_type": "display_data"
    }
   ],
   "source": [
    "show_multiplier([-0.6, 0.0, 0.2])"
   ]
  },
  {
   "cell_type": "markdown",
   "metadata": {},
   "source": [
    "Here the matrix $\\Sigma_{uv}\\Sigma_v^{-1}$ is just the identity matrix. This makes sense; since $u=v$, we know $\\Sigma_{uv} = \\Sigma_{v}$. \n",
    "\n",
    "Therefore $\\Sigma_{uv}\\Sigma_v^{-1}.v = v$. That is, asking about points we already know gives the right answer."
   ]
  },
  {
   "cell_type": "markdown",
   "metadata": {},
   "source": [
    "What if we slightly change one of the values in $u$?"
   ]
  },
  {
   "cell_type": "code",
   "execution_count": 7,
   "metadata": {
    "collapsed": false
   },
   "outputs": [
    {
     "data": {
      "image/png": "[encoded data removed]",
      "text/plain": [
       "<matplotlib.figure.Figure at 0x7fd045081438>"
      ]
     },
     "metadata": {},
     "output_type": "display_data"
    }
   ],
   "source": [
    "show_multiplier([-0.6, 0.1, 0.2])"
   ]
  },
  {
   "cell_type": "markdown",
   "metadata": {},
   "source": [
    "Since we asked for a different middle value the middle row of $\\Sigma_{uv}\\Sigma_v^{-1}$ has changed, as has the predicted value.\n",
    "\n",
    "The way it has changed is instructive. Remember that our known points are \n",
    "$$v = \\begin{pmatrix}-0.6 & 0.0 & 0.2\\end{pmatrix}$$\n",
    "When our second requested point was 0.0, all the middle row's weight was concentrated in the center column. When we change it to 0.1, the weight is split evenly between the second and third columns. Intuitively, this is because 0.1 is half-way between 0.0 and 0.2, so the prediction carries equal weight from each of these."
   ]
  },
  {
   "cell_type": "markdown",
   "metadata": {},
   "source": [
    "## Plotting the result"
   ]
  },
  {
   "cell_type": "markdown",
   "metadata": {},
   "source": [
    "If we have values for points $v$, we can use our conditional function to constrain the values at other points in the domain. "
   ]
  },
  {
   "cell_type": "code",
   "execution_count": 22,
   "metadata": {
    "collapsed": true
   },
   "outputs": [],
   "source": [
    "v = [0.5, -0.7, 2.0, -2.5]\n",
    "y_v = [0.9, -0.3, -2.5, 0.5]\n",
    "\n",
    "xpts = np.arange(-3, 3, step=0.01)\n",
    "conds = [conditional(x, v, y_v) for x in xpts]"
   ]
  },
  {
   "cell_type": "markdown",
   "metadata": {},
   "source": [
    "We assume the probability distributions for different inputs are independent conditional on the values at observed points. If we didn't make this assumption, it wouldn't make sense to condition each point seperately: we would have to condition the whole vector, and taken account of the whole covariance matrix. Instead, we only use the values on the diagonal. "
   ]
  },
  {
   "cell_type": "code",
   "execution_count": 45,
   "metadata": {
    "collapsed": false
   },
   "outputs": [
    {
     "data": {
      "text/plain": [
       "<matplotlib.colorbar.Colorbar at 0x7fd0447a6a20>"
      ]
     },
     "execution_count": 45,
     "metadata": {},
     "output_type": "execute_result"
    },
    {
     "data": {
      "image/png": "[encoded data removed]",
      "text/plain": [
       "<matplotlib.figure.Figure at 0x7fd04488ae80>"
      ]
     },
     "metadata": {},
     "output_type": "display_data"
    }
   ],
   "source": [
    "plt.figure(figsize=(3,3))\n",
    "plt.matshow(conditional(xpts, v, y_v)[1], False)\n",
    "plt.colorbar()"
   ]
  },
  {
   "cell_type": "markdown",
   "metadata": {},
   "source": [
    "The variance values for each point are along the diagonal. Near the observed values, the variance is close to zero."
   ]
  },
  {
   "cell_type": "code",
   "execution_count": 14,
   "metadata": {
    "collapsed": false
   },
   "outputs": [
    {
     "data": {
      "image/png": "[encoded data removed]",
      "text/plain": [
       "<matplotlib.figure.Figure at 0x7f531a73b5f8>"
      ]
     },
     "metadata": {},
     "output_type": "display_data"
    }
   ],
   "source": [
    "plt.errorbar(xpts, [c[0] for c in conds], yerr=[c[1] for c in conds], capsize=0)\n",
    "plt.ylim(-3, 3)\n",
    "\n",
    "for i, _ in enumerate(v):\n",
    "    plt.plot(v[i], y_v[i], \"ro\")"
   ]
  },
  {
   "cell_type": "code",
   "execution_count": null,
   "metadata": {
    "collapsed": true
   },
   "outputs": [],
   "source": []
  }
 ],
 "metadata": {
  "kernelspec": {
   "display_name": "Python 3",
   "language": "python",
   "name": "python3"
  },
  "language_info": {
   "codemirror_mode": {
    "name": "ipython",
    "version": 3
   },
   "file_extension": ".py",
   "mimetype": "text/x-python",
   "name": "python",
   "nbconvert_exporter": "python",
   "pygments_lexer": "ipython3",
   "version": "3.5.2"
  },
  "widgets": {
   "state": {
    "0bb9b6f9d290478d8d8b3d58e6cc3fee": {
     "views": [
      {
       "cell_index": 22
      }
     ]
    },
    "be9934718a4d44f5a8592707a8f8d10f": {
     "views": [
      {
       "cell_index": 22
      }
     ]
    }
   },
   "version": "1.2.0"
  }
 },
 "nbformat": 4,
 "nbformat_minor": 2
}
